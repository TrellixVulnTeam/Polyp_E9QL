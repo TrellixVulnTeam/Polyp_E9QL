{
  "cells": [
    {
      "cell_type": "code",
      "execution_count": null,
      "metadata": {},
      "outputs": [],
      "source": [
        "# model segformerb4 settings\n",
        "from mmseg.models import build_segmentor\n",
        "from mmcv.runner.optimizer import build_optimizer\n",
        "import torch\n",
        "\n",
        "def segformer():\n",
        "    model = dict(\n",
        "        type='SunSegmentor',\n",
        "        backbone=dict(\n",
        "            type='MixVisionTransformer',\n",
        "            in_channels=3,\n",
        "            embed_dims=64,\n",
        "            num_stages=4,\n",
        "            num_layers=[2, 2, 2, 2],\n",
        "            num_heads=[1, 2, 5, 8],\n",
        "            patch_sizes=[7, 3, 3, 3],\n",
        "            sr_ratios=[8, 4, 2, 1],\n",
        "            out_indices=(0, 1, 2, 3),\n",
        "            mlp_ratio=4,\n",
        "            qkv_bias=True,\n",
        "            drop_rate=0.0,\n",
        "            attn_drop_rate=0.0,\n",
        "            drop_path_rate=0.1,\n",
        "            pretrained=None),\n",
        "        decode_head=dict(\n",
        "            type='UPerHeadV3',\n",
        "            in_channels=[64, 128, 320, 512],\n",
        "            in_index=[0, 1, 2, 3],\n",
        "            channels=128,\n",
        "            dropout_ratio=0.1,\n",
        "            num_classes=1,\n",
        "            norm_cfg=dict(type='BN', requires_grad=True),\n",
        "            align_corners=False,\n",
        "            loss_decode=dict(type='CrossEntropyLoss', use_sigmoid=True, loss_weight=1.0)),\n",
        "        # model training and testing settings\n",
        "        train_cfg=dict(),\n",
        "        test_cfg=dict(mode='whole'))\n",
        "    model = build_segmentor(model)\n",
        "    model.init_weights()\n",
        "    return model\n",
        "    \n",
        "\n",
        "def count_parameters(model):\n",
        "    return sum(p.numel() for p in model.parameters() if p.requires_grad) / 1e6\n",
        "model = segformer().cuda(1)\n",
        "out = model(torch.rand((4, 3, 352, 352)).cuda(1))\n",
        "print(out.shape)\n"
      ]
    },
    {
      "cell_type": "code",
      "execution_count": null,
      "metadata": {},
      "outputs": [],
      "source": [
        "count_parameters(model)"
      ]
    },
    {
      "cell_type": "markdown",
      "metadata": {},
      "source": []
    },
    {
      "cell_type": "code",
      "execution_count": null,
      "metadata": {},
      "outputs": [],
      "source": [
        "model.decode_head.mlp_slow.layer_attn"
      ]
    },
    {
      "cell_type": "code",
      "execution_count": null,
      "metadata": {},
      "outputs": [],
      "source": [
        "for i in range(4 - 1, -1, -1):\n",
        "    print(i)"
      ]
    },
    {
      "cell_type": "code",
      "execution_count": null,
      "metadata": {},
      "outputs": [],
      "source": [
        "from mmseg.models.decode_heads.rcfpn import RCFPN\n",
        "import torch\n",
        "rfp = RCFPN([64, 128, 320, 512], 128, 5)\n",
        "test1 = torch.rand((2, 64, 128, 128))\n",
        "test2 = torch.rand((2, 128, 64, 64))\n",
        "test3 = torch.rand((2, 320, 32, 32))\n",
        "test4 = torch.rand((2, 512, 16, 16))\n",
        "\n",
        "rfp_out = rfp([test1, test2, test3, test4])\n"
      ]
    },
    {
      "cell_type": "code",
      "execution_count": null,
      "metadata": {},
      "outputs": [],
      "source": [
        "\n",
        "from mmseg.models.decode_heads.lib.bifpn import *\n",
        "\n",
        "bifpn = BiFPN([64, 128, 320, 512], 128)\n",
        "\n",
        "test1 = torch.rand((2, 64, 128, 128))\n",
        "test2 = torch.rand((2, 128, 64, 64))\n",
        "test3 = torch.rand((2, 320, 32, 32))\n",
        "test4 = torch.rand((2, 512, 16, 16))\n",
        "\n",
        "bifpn_out = bifpn([test1, test2, test3, test4])\n",
        "for i in bifpn_out:\n",
        "    print(i.shape)\n"
      ]
    },
    {
      "cell_type": "code",
      "execution_count": null,
      "metadata": {},
      "outputs": [],
      "source": [
        "\n",
        "import albumentations as A\n",
        "from albumentations.pytorch import ToTensorV2\n",
        "from mcode.custom_transform import *\n",
        "import glob\n",
        "\n",
        "val_transform = A.Compose([\n",
        "    DilationAndErosion(),\n",
        "    A.Normalize(mean=(0.485, 0.456, 0.406), std=(0.229, 0.224, 0.225)),\n",
        "    ToTensorV2(),\n",
        "])"
      ]
    },
    {
      "cell_type": "code",
      "execution_count": null,
      "metadata": {},
      "outputs": [],
      "source": [
        "import torchvision.transforms as transforms\n",
        "from mcode.custom_transform import *\n",
        "import glob\n",
        "train_transform = transforms.Compose([\n",
        "    Random_flip(),\n",
        "    Random_image_enhance(),\n",
        "    Random_rotate(),\n",
        "    Random_scale_crop(),\n",
        "    Tonumpy(),\n",
        "    Normalize(),\n",
        "    Totensor(),\n",
        "    \n",
        "])"
      ]
    },
    {
      "cell_type": "code",
      "execution_count": null,
      "metadata": {},
      "outputs": [],
      "source": [
        "from torch.utils.data import Dataset, DataLoader\n",
        "\n",
        "f_images = glob.glob('TrainDataset/image/*')\n",
        "f_masks = glob.glob('TrainDataset/mask/*')\n",
        "\n",
        "X_test = glob.glob('TestDataset/*/images/*')\n",
        "y_test = glob.glob('TestDataset/*/masks/*')\n",
        "\n",
        "# X_val = glob.glob('/content/TestDataset/ETIS-LaribPolypDB/images/*')\n",
        "# y_val = glob.glob('/content/TestDataset/ETIS-LaribPolypDB/masks/*')\n",
        "\n",
        "trainsize = 352\n",
        "\n",
        "budget_size = 75\n",
        "\n",
        "seed = 2022\n",
        "\n",
        "device = 'cuda:0'\n",
        "class ActiveDataset(Dataset):\n",
        "    \"\"\"\n",
        "    dataloader for polyp segmentation tasks\n",
        "    \"\"\"\n",
        "    def __init__(self, image_paths=[], gt_paths=[], trainsize=352, transform=None):\n",
        "        self.trainsize = trainsize\n",
        "        self.images = image_paths\n",
        "        self.masks = gt_paths\n",
        "        self.size = len(self.images)\n",
        "        self.filter_files()\n",
        "        self.transform = transform\n",
        "        \n",
        "    def __getitem__(self, index):\n",
        "        image = self.rgb_loader(self.images[index])\n",
        "        mask = self.binary_loader(self.masks[index])\n",
        "        if self.transform is not None:\n",
        "            transformed = self.transform(image=image, mask=mask)\n",
        "            image = transformed[\"image\"]\n",
        "            mask = transformed[\"mask\"]\n",
        "            \n",
        "        sample = dict(image=image, mask=mask.unsqueeze(0), image_path=self.images[index], mask_path=self.masks[index])\n",
        "        \n",
        "        return sample\n",
        "\n",
        "    def filter_files(self):\n",
        "        assert len(self.images) == len(self.masks)\n",
        "        images = []\n",
        "        masks = []\n",
        "        for img_path, mask_path in zip(self.images, self.masks):\n",
        "            img = Image.open(img_path)\n",
        "            mask = Image.open(mask_path)\n",
        "            if img.size == mask.size:\n",
        "                images.append(img_path)\n",
        "                masks.append(mask_path)\n",
        "        self.images = images\n",
        "        self.masks = masks\n",
        "    \n",
        "    def rgb_loader(self, path):\n",
        "        with open(path, 'rb') as f:\n",
        "            img = Image.open(f).resize((trainsize, trainsize), Image.BILINEAR)\n",
        "            return np.array(img.convert('RGB'))\n",
        "\n",
        "    def binary_loader(self, path):\n",
        "        with open(path, 'rb') as f:\n",
        "            img = Image.open(f).resize((trainsize, trainsize), Image.NEAREST)\n",
        "            img = np.array(img.convert('L'))\n",
        "            return img\n",
        "\n",
        "    def __len__(self):\n",
        "        return self.size"
      ]
    },
    {
      "cell_type": "code",
      "execution_count": null,
      "metadata": {},
      "outputs": [],
      "source": [
        "\n",
        "\n",
        "train_dataset = ActiveDataset(\n",
        "    f_images, \n",
        "    f_masks, \n",
        "    trainsize=trainsize, \n",
        "    transform=train_transform\n",
        ")\n",
        "\n",
        "\n",
        "print(f\"Train size: {len(train_dataset)}\")\n",
        "\n",
        "\n"
      ]
    },
    {
      "cell_type": "code",
      "execution_count": null,
      "metadata": {},
      "outputs": [],
      "source": [
        "sample = train_dataset[10]"
      ]
    },
    {
      "cell_type": "code",
      "execution_count": null,
      "metadata": {},
      "outputs": [],
      "source": [
        "class UnNormalize(object):\n",
        "    def __init__(self, mean, std):\n",
        "        self.mean = mean\n",
        "        self.std = std\n",
        "\n",
        "    def __call__(self, tensor):\n",
        "        \"\"\"\n",
        "        Args:\n",
        "            tensor (Tensor): Tensor image of size (C, H, W) to be normalized.\n",
        "        Returns:\n",
        "            Tensor: Normalized image.\n",
        "        \"\"\"\n",
        "        for t, m, s in zip(tensor, self.mean, self.std):\n",
        "            t.mul_(s).add_(m)\n",
        "            # The normalize code -> t.sub_(m).div_(s)\n",
        "        return tensor\n",
        "    \n",
        "unorm = UnNormalize(mean=(0.485, 0.456, 0.406), std=(0.229, 0.224, 0.225))"
      ]
    },
    {
      "cell_type": "code",
      "execution_count": null,
      "metadata": {},
      "outputs": [],
      "source": [
        "# lets look at some samples\n",
        "from matplotlib import pyplot as plt\n",
        "sample = train_dataset[10]\n",
        "\n",
        "\n",
        "plt.subplot(1,2,1)\n",
        "plt.imshow(unorm(sample[\"image\"]).permute(1, 2, 0)) # for visualization we have to permute back to HWC\n",
        "plt.subplot(1,2,2)\n",
        "plt.imshow(sample[\"mask\"].squeeze())  # for visualization we have to remove 3rd dimension of mask\n",
        "plt.show()"
      ]
    },
    {
      "cell_type": "code",
      "execution_count": null,
      "metadata": {},
      "outputs": [],
      "source": [
        "img1 = Image.open(\"/mnt/sdd/nguyen.van.quan/Researchs/Polyp/polyp.png\").resize((trainsize, trainsize), Image.BILINEAR).convert('L')\n",
        "img1 = torch.sigmoid(torch.tensor(np.array(img1))) - 0.15\n",
        "img1[img1<=0.4] = -1\n",
        "img1[(img1>=0.4) & (img1<0.84)] = 1\n",
        "img1[img1>=0.85] = 0\n",
        "\n",
        "# img.histogram()\n",
        "plt.imshow(img1)\n"
      ]
    },
    {
      "cell_type": "code",
      "execution_count": null,
      "metadata": {},
      "outputs": [],
      "source": [
        "img2 = Image.open(\"/mnt/sdd/nguyen.van.quan/Researchs/Polyp/polyp.png\").resize((trainsize, trainsize), Image.BILINEAR).convert('L')\n",
        "img2 = np.array(img2)\n",
        "plt.imshow(img2)"
      ]
    },
    {
      "cell_type": "code",
      "execution_count": null,
      "metadata": {},
      "outputs": [],
      "source": [
        "img= img1-img2\n",
        "plt.imshow(img)"
      ]
    },
    {
      "cell_type": "code",
      "execution_count": null,
      "metadata": {},
      "outputs": [],
      "source": [
        "len(img[img>0.8])\n"
      ]
    },
    {
      "cell_type": "code",
      "execution_count": null,
      "metadata": {},
      "outputs": [],
      "source": [
        "len(img[img<=0.5])\n"
      ]
    },
    {
      "cell_type": "code",
      "execution_count": null,
      "metadata": {},
      "outputs": [],
      "source": [
        "39253+84651"
      ]
    }
  ],
  "metadata": {
    "accelerator": "GPU",
    "colab": {
      "collapsed_sections": [],
      "name": "seg_uperv6(1).ipynb",
      "provenance": []
    },
    "gpuClass": "standard",
    "interpreter": {
      "hash": "29a26313a123d87f399acb2394a2e2f8f3dd0812ecc9ccaefc80c1a8314a8fe5"
    },
    "kernelspec": {
      "display_name": "Python 3.8.12 ('pytorch': conda)",
      "language": "python",
      "name": "python3"
    },
    "language_info": {
      "codemirror_mode": {
        "name": "ipython",
        "version": 3
      },
      "file_extension": ".py",
      "mimetype": "text/x-python",
      "name": "python",
      "nbconvert_exporter": "python",
      "pygments_lexer": "ipython3",
      "version": "3.8.12"
    }
  },
  "nbformat": 4,
  "nbformat_minor": 0
}
